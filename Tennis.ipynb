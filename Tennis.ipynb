{
 "cells": [
  {
   "cell_type": "markdown",
   "metadata": {},
   "source": [
    "# Collaboration and Competition\n",
    "\n",
    "---\n",
    "\n",
    "In this notebook, you will learn how to use the Unity ML-Agents environment for the third project of the [Deep Reinforcement Learning Nanodegree](https://www.udacity.com/course/deep-reinforcement-learning-nanodegree--nd893) program.\n",
    "\n",
    "### 1. Start the Environment\n",
    "\n",
    "We begin by importing the necessary packages.  If the code cell below returns an error, please revisit the project instructions to double-check that you have installed [Unity ML-Agents](https://github.com/Unity-Technologies/ml-agents/blob/master/docs/Installation.md) and [NumPy](http://www.numpy.org/)."
   ]
  },
  {
   "cell_type": "code",
   "execution_count": 1,
   "metadata": {},
   "outputs": [],
   "source": [
    "import time\n",
    "\n",
    "import numpy as np\n",
    "from unityagents import UnityEnvironment\n",
    "\n",
    "from config import Config\n",
    "from maddpg import MultiAgentDDPG"
   ]
  },
  {
   "cell_type": "markdown",
   "metadata": {},
   "source": [
    "Next, we will start the environment!  **_Before running the code cell below_**, change the `file_name` parameter to match the location of the Unity environment that you downloaded.\n",
    "\n",
    "- **Mac**: `\"path/to/Tennis.app\"`\n",
    "- **Windows** (x86): `\"path/to/Tennis_Windows_x86/Tennis.exe\"`\n",
    "- **Windows** (x86_64): `\"path/to/Tennis_Windows_x86_64/Tennis.exe\"`\n",
    "- **Linux** (x86): `\"path/to/Tennis_Linux/Tennis.x86\"`\n",
    "- **Linux** (x86_64): `\"path/to/Tennis_Linux/Tennis.x86_64\"`\n",
    "- **Linux** (x86, headless): `\"path/to/Tennis_Linux_NoVis/Tennis.x86\"`\n",
    "- **Linux** (x86_64, headless): `\"path/to/Tennis_Linux_NoVis/Tennis.x86_64\"`\n",
    "\n",
    "For instance, if you are using a Mac, then you downloaded `Tennis.app`.  If this file is in the same folder as the notebook, then the line below should appear as follows:\n",
    "```\n",
    "env = UnityEnvironment(file_name=\"Tennis.app\")\n",
    "```"
   ]
  },
  {
   "cell_type": "code",
   "execution_count": 2,
   "metadata": {},
   "outputs": [
    {
     "name": "stderr",
     "output_type": "stream",
     "text": [
      "INFO:unityagents:\n",
      "'Academy' started successfully!\n",
      "Unity Academy name: Academy\n",
      "        Number of Brains: 1\n",
      "        Number of External Brains : 1\n",
      "        Lesson number : 0\n",
      "        Reset Parameters :\n",
      "\t\t\n",
      "Unity brain name: TennisBrain\n",
      "        Number of Visual Observations (per agent): 0\n",
      "        Vector Observation space type: continuous\n",
      "        Vector Observation space size (per agent): 8\n",
      "        Number of stacked Vector Observation: 3\n",
      "        Vector Action space type: continuous\n",
      "        Vector Action space size (per agent): 2\n",
      "        Vector Action descriptions: , \n"
     ]
    }
   ],
   "source": [
    "env = UnityEnvironment(file_name=\"Tennis_Linux/Tennis.x86_64\")"
   ]
  },
  {
   "cell_type": "markdown",
   "metadata": {},
   "source": [
    "Environments contain **_brains_** which are responsible for deciding the actions of their associated agents. Here we check for the first brain available, and set it as the default brain we will be controlling from Python."
   ]
  },
  {
   "cell_type": "code",
   "execution_count": 3,
   "metadata": {},
   "outputs": [],
   "source": [
    "# get the default brain\n",
    "brain_name = env.brain_names[0]\n",
    "brain = env.brains[brain_name]"
   ]
  },
  {
   "cell_type": "markdown",
   "metadata": {},
   "source": [
    "### 2. Examine the State and Action Spaces\n",
    "\n",
    "In this environment, two agents control rackets to bounce a ball over a net. If an agent hits the ball over the net, it receives a reward of +0.1.  If an agent lets a ball hit the ground or hits the ball out of bounds, it receives a reward of -0.01.  Thus, the goal of each agent is to keep the ball in play.\n",
    "\n",
    "The observation space consists of 8 variables corresponding to the position and velocity of the ball and racket. Two continuous actions are available, corresponding to movement toward (or away from) the net, and jumping. \n",
    "\n",
    "Run the code cell below to print some information about the environment."
   ]
  },
  {
   "cell_type": "code",
   "execution_count": 4,
   "metadata": {},
   "outputs": [
    {
     "name": "stdout",
     "output_type": "stream",
     "text": [
      "Number of agents: 2\n",
      "Size of each action: 2\n",
      "There are 2 agents. Each observes a state with length: 24\n",
      "The observation for the first agent looks like:\n",
      " [ 0.          0.          0.          0.          0.          0.\n",
      "  0.          0.          0.          0.          0.          0.\n",
      "  0.          0.          0.          0.         -6.65278625 -1.5\n",
      " -0.          0.          6.83172083  6.         -0.          0.        ]\n"
     ]
    }
   ],
   "source": [
    "# reset the environment\n",
    "env_info = env.reset(train_mode=True)[brain_name]\n",
    "\n",
    "# number of agents \n",
    "num_agents = len(env_info.agents)\n",
    "print('Number of agents:', num_agents)\n",
    "\n",
    "# size of each action\n",
    "action_size = brain.vector_action_space_size\n",
    "print('Size of each action:', action_size)\n",
    "\n",
    "# examine the state space \n",
    "state = env_info.vector_observations\n",
    "state_size = state.shape[1]\n",
    "\n",
    "print('There are {} agents. Each observes a state with length: {}'\n",
    "      .format(state.shape[0], state_size))\n",
    "print('The observation for the first agent looks like:\\n', state[0])"
   ]
  },
  {
   "cell_type": "markdown",
   "metadata": {},
   "source": [
    "### 3. Take Random Actions in the Environment\n",
    "\n",
    "In the next code cell, you will learn how to use the Python API to control the agents and receive feedback from the environment.\n",
    "\n",
    "Once this cell is executed, you will watch the agents' performance, if they select actions at random with each time step.  A window should pop up that allows you to observe the agents.\n",
    "\n",
    "Of course, as part of the project, you'll have to change the code so that the agents are able to use their experiences to gradually choose better actions when interacting with the environment!"
   ]
  },
  {
   "cell_type": "raw",
   "metadata": {},
   "source": [
    "for i in range(1, 6):                                      # play game for 5 episodes\n",
    "    env_info = env.reset(train_mode=False)[brain_name]     # reset the environment    \n",
    "    states = env_info.vector_observations                  # get the current state (for each agent)\n",
    "    scores = np.zeros(num_agents)                          # initialize the score (for each agent)\n",
    "    while True:\n",
    "        actions = np.random.randn(num_agents, action_size) # select an action (for each agent)\n",
    "        actions = np.clip(actions, -1, 1)                  # all actions between -1 and 1\n",
    "        env_info = env.step(actions)[brain_name]           # send all actions to tne environment\n",
    "        next_states = env_info.vector_observations         # get next state (for each agent)\n",
    "        rewards = env_info.rewards                         # get reward (for each agent)\n",
    "        dones = env_info.local_done                        # see if episode finished\n",
    "        scores += env_info.rewards                         # update the score (for each agent)\n",
    "        states = next_states                               # roll over states to next time step\n",
    "        if np.any(dones):                                  # exit loop if episode finished\n",
    "            break\n",
    "    print('Score (max over agents) from episode {}: {}'.format(i, np.max(scores)))"
   ]
  },
  {
   "cell_type": "markdown",
   "metadata": {},
   "source": [
    "When finished, you can close the environment."
   ]
  },
  {
   "cell_type": "raw",
   "metadata": {},
   "source": [
    "env.close()"
   ]
  },
  {
   "cell_type": "markdown",
   "metadata": {},
   "source": [
    "### 4. It's Your Turn!\n",
    "\n",
    "Now it's your turn to train your own agent to solve the environment!  When training the environment, set `train_mode=True`, so that the line for resetting the environment looks like the following:\n",
    "```python\n",
    "env_info = env.reset(train_mode=True)[brain_name]\n",
    "```"
   ]
  },
  {
   "cell_type": "code",
   "execution_count": 5,
   "metadata": {},
   "outputs": [],
   "source": [
    "## Initialize values in Config\n",
    "config = Config()\n",
    "config.seed = 3\n",
    "config.device = 'cpu'\n",
    "config.target_score = 0.5\n",
    "config.target_episodes = 100\n",
    "\n",
    "config.num_agents = num_agents\n",
    "config.action_size = action_size\n",
    "config.state_size = state_size\n",
    "\n",
    "config.actor_layers = [256, 128]\n",
    "config.critic_layers = [256, 128]\n",
    "config.actor_lr = 1e-3\n",
    "config.critic_lr = 1e-3\n",
    "\n",
    "config.buffer_size = int(1e5)\n",
    "config.batch_size = 128\n",
    "config.gamma = 0.99\n",
    "config.tau = 1e-3\n",
    "\n",
    "config.max_episodes = 300\n",
    "\n",
    "# Instantiate a Multi Agent\n",
    "maddpg = MultiAgentDDPG()"
   ]
  },
  {
   "cell_type": "code",
   "execution_count": 6,
   "metadata": {},
   "outputs": [],
   "source": [
    "## Define the training function\n",
    "def train(env, maddpg, max_episodes=5000):\n",
    "    \"\"\"Train a Multi Agent Deep Deterministic Policy Gradients (MADDPG).\n",
    "    Params\n",
    "    ======\n",
    "        env (UnityEnvironment): environment for the agents\n",
    "        maddpg (MADDPG): the Multi Agent DDPG\n",
    "        n_episodes (int): maximum number of training episodes\n",
    "    \"\"\"\n",
    "    scores = []\n",
    "    agents_scores = []\n",
    "    moving_avg = []\n",
    "\n",
    "    ## Perform n_episodes of training\n",
    "    for i_episode in range(1, max_episodes+1):\n",
    "        time_start = time.time()\n",
    "        env_info = env.reset(train_mode=True)[brain_name]\n",
    "        state = env_info.vector_observations\n",
    "\n",
    "        scores_episode = np.zeros(config.num_agents)\n",
    "        while True:\n",
    "            ## Perform a step: S;A;R;S'\n",
    "            actions = maddpg.act(state)\n",
    "            env_info = env.step(actions)[brain_name]\n",
    "\n",
    "            rewards = env_info.rewards\n",
    "            next_state = env_info.vector_observations\n",
    "            done = any(env_info.local_done)\n",
    "\n",
    "            maddpg.store(state, actions, rewards, next_state)\n",
    "\n",
    "            state = next_state\n",
    "            scores_episode += rewards\n",
    "\n",
    "            if done:\n",
    "                break\n",
    "\n",
    "        agents_scores.append(scores_episode)\n",
    "        scores.append(scores_episode.max())\n",
    "        moving_avg.append(np.mean(scores[-config.target_episodes:]))\n",
    "\n",
    "        print('\\rEpisode {:4d}   ' \\\n",
    "              'Score: {:5.2f} ({:5.2f} / {:5.2f})   ' \\\n",
    "              'Mov. score: {:.2f}   Mov. average: {:.3f}'\n",
    "              .format(i_episode,\n",
    "                      scores[-1], scores_episode[0], scores_episode[1],\n",
    "                      np.sum(scores[-config.target_episodes:]), moving_avg[-1]),\n",
    "              end='')\n",
    "        if i_episode % 100 == 0:\n",
    "            print()\n",
    "\n",
    "        ## Check if the environment has been solved\n",
    "        if moving_avg[-1].mean() >= config.target_score \\\n",
    "                and i_episode >= config.target_episodes:\n",
    "            print('\\n\\nEnvironment solved in {:d} episodes!\\t' \\\n",
    "                  'Moving Average Score: {:.3f}'\n",
    "                  .format(i_episode-config.target_episodes, moving_avg[-1]))\n",
    "            break\n",
    "\n",
    "    print('\\n')"
   ]
  },
  {
   "cell_type": "code",
   "execution_count": 7,
   "metadata": {
    "scrolled": false
   },
   "outputs": [
    {
     "name": "stdout",
     "output_type": "stream",
     "text": [
      "Episode  100   Score:  0.00 ( 0.00 / -0.01)   Mov. score: 0.96   Mov. average: 0.010\n",
      "Episode  200   Score:  0.00 (-0.01 /  0.00)   Mov. score: 0.98   Mov. average: 0.010\n",
      "Episode  300   Score:  0.00 ( 0.00 / -0.01)   Mov. score: 0.58   Mov. average: 0.006\n",
      "\n",
      "\n",
      "CPU times: user 5min 43s, sys: 9min 42s, total: 15min 26s\n",
      "Wall time: 2min 13s\n"
     ]
    }
   ],
   "source": [
    "## Train the agent\n",
    "%time train(env, maddpg, config.max_episodes)"
   ]
  }
 ],
 "metadata": {
  "kernelspec": {
   "display_name": "Python 3",
   "language": "python",
   "name": "python3"
  },
  "language_info": {
   "codemirror_mode": {
    "name": "ipython",
    "version": 3
   },
   "file_extension": ".py",
   "mimetype": "text/x-python",
   "name": "python",
   "nbconvert_exporter": "python",
   "pygments_lexer": "ipython3",
   "version": "3.6.9"
  }
 },
 "nbformat": 4,
 "nbformat_minor": 2
}
